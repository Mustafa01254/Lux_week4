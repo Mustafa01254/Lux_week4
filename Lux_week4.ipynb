{
  "nbformat": 4,
  "nbformat_minor": 0,
  "metadata": {
    "colab": {
      "provenance": []
    },
    "kernelspec": {
      "name": "python3",
      "display_name": "Python 3"
    },
    "language_info": {
      "name": "python"
    }
  },
  "cells": [
    {
      "cell_type": "markdown",
      "source": [
        "**Compound data types**\n",
        "\n",
        "Compound data type provide ways to organize and manage data values of any data types. The values contained in a variable of a compound data type will be one or more of the basic python data types(int, float, string, etc).\n",
        "\n",
        "The followng are examples of compound data types:\n",
        "\n",
        "**List**\n",
        "\n",
        "A list is a collection of values which are ordered and are of different data types. Lists can grow or shrink and a data type of a given list element can be changed(mutable). They also allow duplicate items.\n",
        "Lists are created using square brackets ```[]``` or ```list()```.\n",
        "\n",
        "Example:\n",
        "\n",
        "\n",
        "\n",
        "\n",
        "\n"
      ],
      "metadata": {
        "id": "-bvCnVKiQKCG"
      }
    },
    {
      "cell_type": "code",
      "source": [
        "list1 = [1,'a',2,3,'c','abcd']\n",
        "print(list1)"
      ],
      "metadata": {
        "colab": {
          "base_uri": "https://localhost:8080/"
        },
        "id": "4wAp5t3mZW9h",
        "outputId": "daa9315f-9fc3-4122-b70a-d9035f36c10a"
      },
      "execution_count": null,
      "outputs": [
        {
          "output_type": "stream",
          "name": "stdout",
          "text": [
            "[1, 'a', 2, 3, 'c', 'abcd']\n"
          ]
        }
      ]
    },
    {
      "cell_type": "markdown",
      "source": [
        "**Tuple**\n",
        "\n",
        "It is a collection of items that are ordered and imutable(unchangeable). Tuples also allow duplicate items.\n",
        "Tuple items are indexed, the first item has index[0], second has index[1] while the last has index[-1].\n",
        "Tuples are written with round brackets '()'.\n",
        "\n",
        "**Example**"
      ],
      "metadata": {
        "id": "Z_YnAJHsZ2so"
      }
    },
    {
      "cell_type": "code",
      "source": [
        "my_tuple = ('Nairobi', 'Meru', 12, 47)\n",
        "print(my_tuple)"
      ],
      "metadata": {
        "colab": {
          "base_uri": "https://localhost:8080/"
        },
        "id": "Fu4olm_oa9Rf",
        "outputId": "38e588ea-56fe-40da-fc7e-f70acb82858f"
      },
      "execution_count": null,
      "outputs": [
        {
          "output_type": "stream",
          "name": "stdout",
          "text": [
            "('Nairobi', 'Meru', 12, 47)\n"
          ]
        }
      ]
    },
    {
      "cell_type": "markdown",
      "source": [
        "To determine how homy items a list comtains use len() function."
      ],
      "metadata": {
        "id": "Tsu1qtu1kwn6"
      }
    },
    {
      "cell_type": "code",
      "source": [
        "len(my_tuple)"
      ],
      "metadata": {
        "colab": {
          "base_uri": "https://localhost:8080/"
        },
        "id": "SxMcQeTflUcg",
        "outputId": "e30713a4-9884-4f7a-f571-0ba08ea3db24"
      },
      "execution_count": null,
      "outputs": [
        {
          "output_type": "execute_result",
          "data": {
            "text/plain": [
              "4"
            ]
          },
          "metadata": {},
          "execution_count": 3
        }
      ]
    },
    {
      "cell_type": "markdown",
      "source": [
        "**Sets**\n",
        "Set is a collection of items which are unordered, unchngeable and alowws only unique items.\n",
        "Sets are writen with curly brackets '{}'.\n",
        "Example"
      ],
      "metadata": {
        "id": "CmDWV7DAla9z"
      }
    },
    {
      "cell_type": "code",
      "source": [
        "this_set = {\"Data analytics\", \"Data Science\", \"Data engineering\", 1, 3, 4}\n",
        "print(this_set)"
      ],
      "metadata": {
        "colab": {
          "base_uri": "https://localhost:8080/"
        },
        "id": "Ts8sGWPdmRSN",
        "outputId": "0e860035-702e-4ac1-d81f-cedb60d2fefb"
      },
      "execution_count": null,
      "outputs": [
        {
          "output_type": "stream",
          "name": "stdout",
          "text": [
            "{1, 3, 4, 'Data engineering', 'Data Science', 'Data analytics'}\n"
          ]
        }
      ]
    },
    {
      "cell_type": "markdown",
      "source": [
        "To get the lenth of a set use the len() function"
      ],
      "metadata": {
        "id": "xacGZulImp8O"
      }
    },
    {
      "cell_type": "code",
      "source": [
        "len(this_set)"
      ],
      "metadata": {
        "colab": {
          "base_uri": "https://localhost:8080/"
        },
        "id": "5r66PM63nDL_",
        "outputId": "3991a3ce-2429-49fe-eb8e-c1d8b5b42ecf"
      },
      "execution_count": null,
      "outputs": [
        {
          "output_type": "execute_result",
          "data": {
            "text/plain": [
              "6"
            ]
          },
          "metadata": {},
          "execution_count": 5
        }
      ]
    },
    {
      "cell_type": "markdown",
      "source": [
        "It is also possible to use the set() construter to create a set"
      ],
      "metadata": {
        "id": "K-95Y3vWnH-5"
      }
    },
    {
      "cell_type": "code",
      "source": [
        "my_set = set((1,2,'Apple', 'orange'))\n",
        "print(my_set)"
      ],
      "metadata": {
        "colab": {
          "base_uri": "https://localhost:8080/"
        },
        "id": "xpBOrH9mnqVm",
        "outputId": "dae74801-d3af-4cb2-911c-81ff546b862a"
      },
      "execution_count": null,
      "outputs": [
        {
          "output_type": "stream",
          "name": "stdout",
          "text": [
            "{1, 2, 'Apple', 'orange'}\n"
          ]
        }
      ]
    },
    {
      "cell_type": "markdown",
      "source": [
        "You cannot access items on a set since the set items are not indexed and are unordered.\n",
        "But you can loop through the items using the **for** loop or ckeck whether the specified value is present in a stack using the **in** keyword."
      ],
      "metadata": {
        "id": "d9V-IcDrnv14"
      }
    },
    {
      "cell_type": "code",
      "source": [
        "for x in this_set:\n",
        "  print(x)"
      ],
      "metadata": {
        "colab": {
          "base_uri": "https://localhost:8080/"
        },
        "id": "5dE1GtXQsU10",
        "outputId": "efca782a-a23a-4f9e-ae9c-117c81f6710f"
      },
      "execution_count": null,
      "outputs": [
        {
          "output_type": "stream",
          "name": "stdout",
          "text": [
            "1\n",
            "3\n",
            "4\n",
            "Data engineering\n",
            "Data Science\n",
            "Data analytics\n"
          ]
        }
      ]
    },
    {
      "cell_type": "code",
      "source": [
        "# Check if apple is in my_set\n",
        "print(\"Apple\" in my_set)"
      ],
      "metadata": {
        "colab": {
          "base_uri": "https://localhost:8080/"
        },
        "id": "oeVFXhposk8j",
        "outputId": "e7635d5a-9ff7-4ead-d4fc-03db41c5623e"
      },
      "execution_count": null,
      "outputs": [
        {
          "output_type": "stream",
          "name": "stdout",
          "text": [
            "True\n"
          ]
        }
      ]
    },
    {
      "cell_type": "markdown",
      "source": [
        "**Dictionary**\n",
        "a dictionary is a collection of items which are orderd, changeable and do not allow duplicate.\n",
        "Used to store data values in key: value pairs.\n",
        "They are writen with curly brackets.\n",
        "\n",
        "Example"
      ],
      "metadata": {
        "id": "77FcvobYs7Pm"
      }
    },
    {
      "cell_type": "code",
      "source": [
        "cars = {\n",
        "    'Brand': ['Audi','Toyota', 'Mercedes'],\n",
        "    'Model': ['A series', 'Mark x', 'E series'],\n",
        "    'Year': [2018, 2019, 2020]\n",
        "}\n",
        "cars"
      ],
      "metadata": {
        "colab": {
          "base_uri": "https://localhost:8080/"
        },
        "id": "0iowdGAaBQ34",
        "outputId": "f0846066-d6bd-4b14-eb81-f5153f3f8e39"
      },
      "execution_count": null,
      "outputs": [
        {
          "output_type": "execute_result",
          "data": {
            "text/plain": [
              "{'Brand': ['Audi', 'Toyota', 'Mercedes'],\n",
              " 'Model': ['A series', 'Mark x', 'E series'],\n",
              " 'Year': [2018, 2019, 2020]}"
            ]
          },
          "metadata": {},
          "execution_count": 5
        }
      ]
    },
    {
      "cell_type": "markdown",
      "source": [
        "Dictionary items can be referenced using the key name."
      ],
      "metadata": {
        "id": "ilIuxIxdCrGx"
      }
    },
    {
      "cell_type": "code",
      "source": [
        "cars[\"Model\"]"
      ],
      "metadata": {
        "colab": {
          "base_uri": "https://localhost:8080/",
          "height": 35
        },
        "id": "u3kl_PA8C2y5",
        "outputId": "6cc4e8f6-ec9a-4ab3-a649-a3bfaadc832f"
      },
      "execution_count": null,
      "outputs": [
        {
          "output_type": "execute_result",
          "data": {
            "text/plain": [
              "'A series'"
            ],
            "application/vnd.google.colaboratory.intrinsic+json": {
              "type": "string"
            }
          },
          "metadata": {},
          "execution_count": 3
        }
      ]
    },
    {
      "cell_type": "markdown",
      "source": [
        "To determine the number of items in a dictionary use the len() function"
      ],
      "metadata": {
        "id": "-zF8yzvjDE0P"
      }
    },
    {
      "cell_type": "code",
      "source": [
        "len(cars)"
      ],
      "metadata": {
        "colab": {
          "base_uri": "https://localhost:8080/"
        },
        "id": "4l_CYj3RDPcd",
        "outputId": "5dab2d46-014d-429a-89ce-447bc4f8dc0b"
      },
      "execution_count": null,
      "outputs": [
        {
          "output_type": "execute_result",
          "data": {
            "text/plain": [
              "3"
            ]
          },
          "metadata": {},
          "execution_count": 4
        }
      ]
    },
    {
      "cell_type": "markdown",
      "source": [
        "\n",
        "\n",
        "---\n",
        "\n",
        "\n",
        "**List Comprehension**\n",
        "\n",
        "List comprehension offers a shorter way to create a new list by applying an exprression to each item in an existing iterable(List, string, tuple) or by filtering items based on a condition.\n",
        "\n",
        "Example\n",
        "\n",
        "Based on car list you want to select only cars with leter 'a' in the name.\n",
        "Without list comprehension you will ave this code:"
      ],
      "metadata": {
        "id": "C13zzO4cnVJ3"
      }
    },
    {
      "cell_type": "code",
      "source": [
        "car = ['audi', 'mercedes', 'toyota', 'mazda', 'bentley']\n",
        "car_a = []\n",
        "for x in car:\n",
        "  if 'a' in x :\n",
        "    car_a.append(x)\n",
        "\n",
        "print(car_a)"
      ],
      "metadata": {
        "colab": {
          "base_uri": "https://localhost:8080/"
        },
        "id": "cFOIhIcjpnwW",
        "outputId": "aae5eeb0-b9b9-4374-cc59-bf93282d0066"
      },
      "execution_count": null,
      "outputs": [
        {
          "output_type": "stream",
          "name": "stdout",
          "text": [
            "['audi', 'toyota', 'mazda']\n"
          ]
        }
      ]
    },
    {
      "cell_type": "markdown",
      "source": [
        "With list comprehension you can all that with only one line of code."
      ],
      "metadata": {
        "id": "Y7bRK8YKsI5L"
      }
    },
    {
      "cell_type": "code",
      "source": [
        "carA = [x for x in car if 'a' in x]\n",
        "carA"
      ],
      "metadata": {
        "colab": {
          "base_uri": "https://localhost:8080/"
        },
        "id": "QPtcObDRtRso",
        "outputId": "0b48bdcc-95aa-4d64-91d3-42eb4181d185"
      },
      "execution_count": null,
      "outputs": [
        {
          "output_type": "execute_result",
          "data": {
            "text/plain": [
              "['audi', 'toyota', 'mazda']"
            ]
          },
          "metadata": {},
          "execution_count": 2
        }
      ]
    },
    {
      "cell_type": "markdown",
      "source": [
        "The syntax for list comprehension is:\n",
        "\n",
        "\n",
        "```\n",
        "[expression for item in iteratable if condition == True]\n",
        "```\n",
        "The returned list is a new list leaveing the old one unchanged.\n",
        "\n",
        "**expression**: Is the current item in the iterable, but you can manipulate it before it ends up like a list item in the new list.\n",
        "\n",
        "\n",
        "\n"
      ],
      "metadata": {
        "id": "bg5HRthutyZX"
      }
    },
    {
      "cell_type": "code",
      "source": [
        "upper_car = [x.upper() for x in car if 'a' in x]\n",
        "upper_car"
      ],
      "metadata": {
        "colab": {
          "base_uri": "https://localhost:8080/"
        },
        "id": "FGTgyZMOz5yv",
        "outputId": "eb78874e-e736-4e2f-f60f-6c054b6e188f"
      },
      "execution_count": null,
      "outputs": [
        {
          "output_type": "execute_result",
          "data": {
            "text/plain": [
              "['AUDI', 'TOYOTA', 'MAZDA']"
            ]
          },
          "metadata": {},
          "execution_count": 6
        }
      ]
    },
    {
      "cell_type": "markdown",
      "source": [
        "**item**: The variable that takes value for each element in the iterable.\n",
        "\n",
        "**iterable**: The collection of items you are altering over(eg list, tuple, etc).\n",
        "\n",
        "**condition**: It is like a filter that accepts the items that evaluate to **True**.\n",
        "\n",
        "Example:"
      ],
      "metadata": {
        "id": "TQkaJ4580SnQ"
      }
    },
    {
      "cell_type": "code",
      "source": [
        "# A list that accepts only odd numbers\n",
        "odd = [x for x in range(10) if x%2 != 0]\n",
        "odd"
      ],
      "metadata": {
        "colab": {
          "base_uri": "https://localhost:8080/"
        },
        "id": "soWZHclm0ljj",
        "outputId": "71d6d28b-5145-447e-ce72-87cefab9f673"
      },
      "execution_count": null,
      "outputs": [
        {
          "output_type": "execute_result",
          "data": {
            "text/plain": [
              "[1, 3, 5, 7, 9]"
            ]
          },
          "metadata": {},
          "execution_count": 7
        }
      ]
    },
    {
      "cell_type": "markdown",
      "source": [
        "**Nested comprehension list**\n",
        "Comprehsion list can be nested ho handle matrices or perform operations that involve multiple loops.\n",
        "\n",
        "Example:"
      ],
      "metadata": {
        "id": "ymqeIW-41irW"
      }
    },
    {
      "cell_type": "code",
      "source": [
        "#Ooutputs a 2d list of cars repeated three times\n",
        "matrix = [[x for x in car] for _ in range(3)] # Run a loop a certain number of items without using the loop variable.\n",
        "matrix"
      ],
      "metadata": {
        "colab": {
          "base_uri": "https://localhost:8080/"
        },
        "id": "nFIIeWkI3KdE",
        "outputId": "d0443e2e-0edd-45d9-ac4a-191cc2854f34"
      },
      "execution_count": null,
      "outputs": [
        {
          "output_type": "execute_result",
          "data": {
            "text/plain": [
              "[['audi', 'mercedes', 'toyota', 'mazda', 'bentley'],\n",
              " ['audi', 'mercedes', 'toyota', 'mazda', 'bentley'],\n",
              " ['audi', 'mercedes', 'toyota', 'mazda', 'bentley']]"
            ]
          },
          "metadata": {},
          "execution_count": 8
        }
      ]
    },
    {
      "cell_type": "markdown",
      "source": [
        "\n",
        "\n",
        "\n",
        "---\n",
        "The below program is a function that takes a string list and returns a list of bigrams.\n"
      ],
      "metadata": {
        "id": "UNU7hui0Mkx9"
      }
    },
    {
      "cell_type": "code",
      "source": [
        "# A function that takes a string list and returns a list of bigrams\n",
        "# Using List comprehension, enumerate() and split() functions\n",
        "string_list1 = [\"Audi Lexus toyota\", \"Mazda Volvo Marcedes\"]\n",
        "def generate_bigram(string_list):\n",
        "         bigram_list = [(x,i.split()[j+1]) for i in string_list\n",
        "                       for j, x in enumerate(i.split())if (j< len(i.split())- 1) ]\n",
        "         return bigram_list\n",
        "\n",
        "generate_bigram(string_list1)"
      ],
      "metadata": {
        "colab": {
          "base_uri": "https://localhost:8080/"
        },
        "id": "TzwsZdLtdGU3",
        "outputId": "767aacef-1a4c-409d-e563-a83802417961"
      },
      "execution_count": 4,
      "outputs": [
        {
          "output_type": "execute_result",
          "data": {
            "text/plain": [
              "[('Audi', 'Lexus'),\n",
              " ('Lexus', 'toyota'),\n",
              " ('Mazda', 'Volvo'),\n",
              " ('Volvo', 'Marcedes')]"
            ]
          },
          "metadata": {},
          "execution_count": 4
        }
      ]
    },
    {
      "cell_type": "markdown",
      "source": [
        "\n",
        "\n",
        "\n",
        "\n",
        "---\n",
        "\n",
        "The function in the program below finds the key with the input value closest to the beginning of the list, from a dictionary with keys as letters and values as lists of letters.  \n",
        "\n",
        "\n"
      ],
      "metadata": {
        "id": "--MpE70GNSEa"
      }
    },
    {
      "cell_type": "code",
      "source": [
        "def closest_key(d, value):\n",
        "  closest_key = None\n",
        "  closest_pos = float('inf')\n",
        "  for key, lst in d.items():\n",
        "    if value in lst:\n",
        "      pos = lst.index(value)\n",
        "      if pos < closest_pos:\n",
        "        closest_pos = pos\n",
        "        closest_key = key\n",
        "  return closest_key\n",
        "\n",
        "d = {\n",
        "    'd': ['c', 'v', 'd'],\n",
        "    'f': ['v', 'd', 'l'],\n",
        "    'g': ['l','c']\n",
        "}\n",
        "closest_key(d, 'v')"
      ],
      "metadata": {
        "colab": {
          "base_uri": "https://localhost:8080/",
          "height": 35
        },
        "id": "zNXUu5d_s1si",
        "outputId": "2a0f823a-a82b-4ab8-818b-0576b742ab23"
      },
      "execution_count": 5,
      "outputs": [
        {
          "output_type": "execute_result",
          "data": {
            "text/plain": [
              "'f'"
            ],
            "application/vnd.google.colaboratory.intrinsic+json": {
              "type": "string"
            }
          },
          "metadata": {},
          "execution_count": 5
        }
      ]
    },
    {
      "cell_type": "markdown",
      "source": [],
      "metadata": {
        "id": "ok1DOGnxfKXP"
      }
    }
  ]
}